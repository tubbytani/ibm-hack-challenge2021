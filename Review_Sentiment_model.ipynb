{
  "nbformat": 4,
  "nbformat_minor": 0,
  "metadata": {
    "colab": {
      "name": "Review Sentiment- model.ipynb",
      "provenance": [],
      "collapsed_sections": []
    },
    "kernelspec": {
      "name": "python3",
      "display_name": "Python 3"
    },
    "language_info": {
      "name": "python"
    }
  },
  "cells": [
    {
      "cell_type": "code",
      "metadata": {
        "colab": {
          "base_uri": "https://localhost:8080/"
        },
        "id": "-R2tyTbGfrNG",
        "outputId": "6c9ebdd5-7978-4f4a-8679-12709c2558d4"
      },
      "source": [
        "import nltk\n",
        "import pandas as pd\n",
        "nltk.download('vader_lexicon')\n",
        "nltk.download('stopwords')"
      ],
      "execution_count": null,
      "outputs": [
        {
          "output_type": "stream",
          "text": [
            "[nltk_data] Downloading package vader_lexicon to /root/nltk_data...\n",
            "[nltk_data]   Package vader_lexicon is already up-to-date!\n",
            "[nltk_data] Downloading package stopwords to /root/nltk_data...\n",
            "[nltk_data]   Package stopwords is already up-to-date!\n"
          ],
          "name": "stdout"
        },
        {
          "output_type": "execute_result",
          "data": {
            "text/plain": [
              "True"
            ]
          },
          "metadata": {},
          "execution_count": 321
        }
      ]
    },
    {
      "cell_type": "code",
      "metadata": {
        "id": "W02FllF1fvn-"
      },
      "source": [
        "from sklearn.feature_extraction.text import CountVectorizer\n",
        "from nltk.sentiment.vader import SentimentIntensityAnalyzer\n",
        "import string\n",
        "import re\n",
        "import nltk\n",
        "import pandas as pd\n",
        "from textblob import TextBlob\n",
        "from nltk.corpus import stopwords\n",
        "stoplist = set(stopwords.words(\"english\"))\n",
        "\n",
        "df_p = pd.read_csv('/content/drive/MyDrive/DATA_FOR_OTT/REVIEWS/prime-reviews.csv',index_col=0)\n",
        "\n",
        "df_n = pd.read_csv('/content/drive/MyDrive/DATA_FOR_OTT/REVIEWS/netflix-reviews.csv',index_col=0)\n",
        "\n",
        "df_d = pd.read_csv('/content/drive/MyDrive/DATA_FOR_OTT/REVIEWS/disney-reviews.csv',index_col=0)\n",
        "analyser = SentimentIntensityAnalyzer()\n",
        "sentiment_p=df_p\n",
        "sentiment_n=df_n\n",
        "sentiment_d=df_d\n"
      ],
      "execution_count": null,
      "outputs": []
    },
    {
      "cell_type": "code",
      "metadata": {
        "id": "HHuASJE6AxP1"
      },
      "source": [
        "analyzer = SentimentIntensityAnalyzer()\n",
        "# Prime Video\n",
        "\n",
        "sentiment_p['neg'] = [analyzer.polarity_scores(x)['neg'] for x in sentiment_p['Full Review']]\n",
        "sentiment_p['neu'] = [analyzer.polarity_scores(x)['neu'] for x in sentiment_p['Full Review']]   \n",
        "sentiment_p['pos'] = [analyzer.polarity_scores(x)['pos'] for x in sentiment_p['Full Review']]\n",
        "\n",
        "# Netflix\n",
        "sentiment_n['neg'] = [analyzer.polarity_scores(x)['neg'] for x in sentiment_n['Full Review']]\n",
        "sentiment_n['neu'] = [analyzer.polarity_scores(x)['neu'] for x in sentiment_n['Full Review']]   \n",
        "sentiment_n['pos'] = [analyzer.polarity_scores(x)['pos'] for x in sentiment_n['Full Review']]\n",
        "\n",
        "# Disney+ Hotstar\n",
        "sentiment_d['neg'] = [analyzer.polarity_scores(x)['neg'] for x in sentiment_d['Full Review']]\n",
        "sentiment_d['neu'] = [analyzer.polarity_scores(x)['neu'] for x in sentiment_d['Full Review']]   \n",
        "sentiment_d['pos'] = [analyzer.polarity_scores(x)['pos'] for x in sentiment_d['Full Review']]"
      ],
      "execution_count": null,
      "outputs": []
    },
    {
      "cell_type": "code",
      "metadata": {
        "id": "kCEvEnZNCU0a"
      },
      "source": [
        "datap= [['pos' ,sentiment_p['pos'].mean()] , ['neu',sentiment_p['neu'].mean()] , [ 'neg',sentiment_p['neg'].mean()]] \n",
        "pp=pd.DataFrame(datap, columns = ['SentimentPrime','Value'])\n",
        "pp.to_csv('/content/drive/MyDrive/DATA_FOR_OTT/REVIEWS/sentiment_pp.csv')\n",
        "\n",
        "datan= [['pos' ,sentiment_n['pos'].mean()] , ['neu',sentiment_n['neu'].mean()] , [ 'neg',sentiment_n['neg'].mean()]] \n",
        "nn=pd.DataFrame(datan, columns = ['SentimentNetflix','Value'])\n",
        "nn.to_csv('/content/drive/MyDrive/DATA_FOR_OTT/REVIEWS/sentiment_nn.csv')\n",
        "\n",
        "datad= [['pos' ,sentiment_d['pos'].mean()] , ['neu',sentiment_d['neu'].mean()] , [ 'neg',sentiment_d['neg'].mean()]] \n",
        "dd=pd.DataFrame(datad, columns = ['SentimentDisney','Value'])\n",
        "dd.to_csv('/content/drive/MyDrive/DATA_FOR_OTT/REVIEWS/sentiment_dd.csv')\n"
      ],
      "execution_count": null,
      "outputs": []
    }
  ]
}