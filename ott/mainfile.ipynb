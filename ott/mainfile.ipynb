{
 "cells": [
  {
   "cell_type": "code",
   "execution_count": 3,
   "id": "f5fcd9a2",
   "metadata": {
    "id": "08e9d84a-6b47-4aae-8d4d-64f48dadd206"
   },
   "outputs": [],
   "source": [
    "import numpy as np\n",
    "import pandas as pd\n",
    "#import seaborn as sns\n",
    "#import pandas_profiling\n",
    "#import matplotlib.pyplot as plt\n",
    "from sklearn.feature_extraction.text import TfidfVectorizer\n",
    "from nltk.tokenize import RegexpTokenizer\n",
    "from sklearn import preprocessing\n",
    "from scipy.sparse import hstack"
   ]
  },
  {
   "cell_type": "code",
   "execution_count": 4,
   "id": "d37ba393",
   "metadata": {
    "colab": {
     "base_uri": "https://localhost:8080/",
     "height": 476
    },
    "executionInfo": {
     "elapsed": 1005,
     "status": "ok",
     "timestamp": 1626103038470,
     "user": {
      "displayName": "Shashwat Pandey",
      "photoUrl": "https://lh3.googleusercontent.com/a-/AOh14GgSBoKCwDkV3fzoF32ou6T9VzgBGvTtgE7DRsjJgjc=s64",
      "userId": "08031397282229306509"
     },
     "user_tz": -330
    },
    "id": "dbac1545-c613-42bb-b2e1-82dbd74035e0",
    "outputId": "0314395d-3e69-4976-fc99-e674d3c88463"
   },
   "outputs": [],
   "source": [
    "df = pd.read_csv(\"netflix.csv\",squeeze=True)\n",
    "df.drop(['Title','Hidden Gem Score', 'Director', 'Writer','Tags','Actors','Awards Received','Boxoffice','Awards Nominated For','Metacritic Score','Country Availability','Rotten Tomatoes Score','Runtime','Director','Writer','Netflix Link', 'IMDb Link','Netflix Release Date','IMDb Votes'\t,'Image' ,'Poster','TMDb Trailer', \t'Trailer Site' ,'Release Date','Production House','Summary'\t], axis =1, inplace=True)\n",
    "#df"
   ]
  },
  {
   "cell_type": "code",
   "execution_count": 5,
   "id": "6e9dfd3e",
   "metadata": {
    "id": "ceea6e59-340f-45ac-a71f-d5002cd1942d"
   },
   "outputs": [],
   "source": [
    "m_dict = dict()\n",
    "s_dict = dict()\n",
    "df_movie = df[df['Series or Movie']=='Movie']\n",
    "df_series = df[df['Series or Movie']=='Series']\n",
    "# df_movie\n",
    "df['IMDb Score']=pd.to_numeric(df['IMDb Score'], errors='coerce')\n",
    "total = len(df_series)+len(df_movie)\n",
    "s_dict[\"Netflix\"]=len(df_series)/total*100\n",
    "m_dict[\"Netflix\"]=len(df_movie)/total*100\n",
    "#m_dict"
   ]
  },
  {
   "cell_type": "code",
   "execution_count": 6,
   "id": "8fad97f2",
   "metadata": {},
   "outputs": [
    {
     "name": "stderr",
     "output_type": "stream",
     "text": [
      "/home/tanisha/.local/lib/python3.6/site-packages/pandas/core/series.py:4582: SettingWithCopyWarning: \n",
      "A value is trying to be set on a copy of a slice from a DataFrame\n",
      "\n",
      "See the caveats in the documentation: https://pandas.pydata.org/pandas-docs/stable/user_guide/indexing.html#returning-a-view-versus-a-copy\n",
      "  method=method,\n"
     ]
    }
   ],
   "source": [
    "# Age Rating\n",
    "sd2 = df_series\n",
    "md2 = df_movie\n",
    "sd2['rating'].replace(to_replace='TV-MA', value='18+', inplace=True)\n",
    "sd2['rating'].replace(to_replace='TV-14', value='13+', inplace=True)\n",
    "sd2['rating'].replace(to_replace='TV-PG', value='16+', inplace=True)\n",
    "sd2['rating'].replace(to_replace='TV-Y7', value='7+', inplace=True)\n",
    "sd2['rating'].replace(to_replace='TV-Y', value='Universal', inplace=True)\n",
    "sd2['rating'].replace(to_replace='TV-G', value='Universal', inplace=True)\n",
    "sd2['rating'].replace(to_replace='NR', value='Not Rated', inplace=True)\n",
    "sd2['rating'].replace(to_replace='R', value='18+', inplace=True)\n",
    "sd2['rating'].replace(to_replace='TV-Y7-FV', value='7+', inplace=True)\n",
    "\n",
    "md2['rating'].replace(to_replace='TV-MA', value='18+', inplace=True)\n",
    "md2['rating'].replace(to_replace='TV-14', value='13+', inplace=True)\n",
    "md2['rating'].replace(to_replace='PG-13', value='13+', inplace=True)\n",
    "md2['rating'].replace(to_replace='TV-PG', value='16+', inplace=True)\n",
    "md2['rating'].replace(to_replace='TV-Y7', value='7+', inplace=True)\n",
    "md2['rating'].replace(to_replace='PG', value='7+', inplace=True)\n",
    "md2['rating'].replace(to_replace='G', value='Universal', inplace=True)\n",
    "md2['rating'].replace(to_replace='TV-Y', value='Universal', inplace=True)\n",
    "md2['rating'].replace(to_replace='TV-G', value='Universal', inplace=True)\n",
    "md2['rating'].replace(to_replace='NR', value='Not Rated', inplace=True)\n",
    "md2['rating'].replace(to_replace='UR', value='Not Rated', inplace=True)\n",
    "md2['rating'].replace(to_replace='R', value='18+', inplace=True)\n",
    "md2['rating'].replace(to_replace='NC-17', value='18+', inplace=True)\n",
    "md2['rating'].replace(to_replace='TV-Y7-FV', value='7+', inplace=True)\n",
    "\n",
    "s_rate=sd2['rating'].dropna().value_counts()\n",
    "m_rate=md2['rating'].dropna().value_counts()\n",
    "#m_rate"
   ]
  },
  {
   "cell_type": "code",
   "execution_count": null,
   "id": "6eec9aba",
   "metadata": {},
   "outputs": [],
   "source": []
  },
  {
   "cell_type": "code",
   "execution_count": 7,
   "id": "68a06660",
   "metadata": {
    "id": "k_n4lYH37WE2"
   },
   "outputs": [
    {
     "name": "stderr",
     "output_type": "stream",
     "text": [
      "/home/tanisha/.local/lib/python3.6/site-packages/ipykernel_launcher.py:1: SettingWithCopyWarning: \n",
      "A value is trying to be set on a copy of a slice from a DataFrame.\n",
      "Try using .loc[row_indexer,col_indexer] = value instead\n",
      "\n",
      "See the caveats in the documentation: https://pandas.pydata.org/pandas-docs/stable/user_guide/indexing.html#returning-a-view-versus-a-copy\n",
      "  \"\"\"Entry point for launching an IPython kernel.\n",
      "/home/tanisha/.local/lib/python3.6/site-packages/ipykernel_launcher.py:12: SettingWithCopyWarning: \n",
      "A value is trying to be set on a copy of a slice from a DataFrame.\n",
      "Try using .loc[row_indexer,col_indexer] = value instead\n",
      "\n",
      "See the caveats in the documentation: https://pandas.pydata.org/pandas-docs/stable/user_guide/indexing.html#returning-a-view-versus-a-copy\n",
      "  if sys.path[0] == '':\n"
     ]
    }
   ],
   "source": [
    "df_series['IMDb Score']=df_series['IMDb Score'].astype(float)\n",
    "#df_series['IMDb Score'].apply(lambda x: float(x))\n",
    "df4 = df_series[(df_series['IMDb Score']>4.0) & (df_series['IMDb Score']<=5.0)]\n",
    "df5 = df_series[(df_series['IMDb Score']>5.0) & (df_series['IMDb Score']<=6.0)]\n",
    "df6 = df_series[(df_series['IMDb Score']>6.0) & (df_series['IMDb Score']<=7.0)]\n",
    "df7 = df_series[(df_series['IMDb Score']>7.0) & (df_series['IMDb Score']<=8.0)]\n",
    "df8 = df_series[(df_series['IMDb Score']>8.0) & (df_series['IMDb Score']<=9.0)]\n",
    "df9 = df_series[(df_series['IMDb Score']>9.0) & (df_series['IMDb Score']<=10.0)]\n",
    "total = (len(df4) + len(df5) + len(df6) + len(df7) + len(df8) + len(df9))/100\n",
    "datas_n= {\"4-5\" :len(df4)/total , \"5-6\":len(df5)/total, \"6-7\":len(df6)/total, \"7-8\":len(df7)/total, \"8-9\":len(df8)/total,\"9-10\":len(df9)/total} \n",
    "# ssi = pd.DataFrame(datas, columns = ['IMDb Rating', 'Series'])\n",
    "df_movie['IMDb Score']=df_movie['IMDb Score'].astype(float)\n",
    "df4 = df_movie[(df_movie['IMDb Score']>4.0) & (df_movie['IMDb Score']<=5.0)]\n",
    "df5 = df_movie[(df_movie['IMDb Score']>5.0) & (df_movie['IMDb Score']<=6.0)]\n",
    "df6 = df_movie[(df_movie['IMDb Score']>6.0) & (df_movie['IMDb Score']<=7.0)]\n",
    "df7 = df_movie[(df_movie['IMDb Score']>7.0) & (df_movie['IMDb Score']<=8.0)]\n",
    "df8 = df_movie[(df_movie['IMDb Score']>8.0) & (df_movie['IMDb Score']<=9.0)]\n",
    "df9 = df_movie[(df_movie['IMDb Score']>9.0) & (df_movie['IMDb Score']<=10.0)]\n",
    "total = (len(df4) + len(df5) + len(df6) + len(df7) + len(df8) + len(df9))/100\n",
    "datam_n= {\"4-5\":len(df4)/total , \"5-6\":len(df5)/total, \"6-7\":len(df6)/total, \"7-8\":len(df7)/total, \"8-9\":len(df8)/total,\"9-10\":len(df9)/total}\n",
    "# mmi = pd.DataFrame(datam, columns = ['IMDb Rating', 'Movies'])\n",
    "# ssi\n",
    "#datam_n"
   ]
  },
  {
   "cell_type": "code",
   "execution_count": 8,
   "id": "0044658a",
   "metadata": {},
   "outputs": [],
   "source": [
    "# def calc_genre(totalm,totals,df_series,df_movie):\n",
    "#     m_genre_set = df_movie[\"Genre\"].str.split(',\\s+', expand=True).stack().unique()\n",
    "#     s_genre_set = df_series[\"Genre\"].str.split(',\\s+', expand=True).stack().unique()\n",
    "#     genre_m= dict()\n",
    "#     for i in m_genre_set:\n",
    "#         genre_m[i]=round((df_movie[\"Genre\"].str.split(',\\s+', expand=True).stack().value_counts()[i]/totalm)*100,2)\n",
    "#     genre_m\n",
    "#     #m_genre_set_n\n",
    "#     genre_s= dict()\n",
    "#     for i in s_genre_set:\n",
    "#         genre_s[i]=round((df_series[\"Genre\"].str.split(',\\s+', expand=True).stack().value_counts()[i]/totals)*100,2)\n",
    "#     genre_s\n",
    "#     return(genre_s,genre_m)"
   ]
  },
  {
   "cell_type": "code",
   "execution_count": 9,
   "id": "5625a53e",
   "metadata": {
    "id": "aff58623-7041-4de5-ba96-11f6aacefc20"
   },
   "outputs": [],
   "source": [
    "# Genre\n",
    "from collections import Counter\n",
    "ssg=df_series['Genre'].str.split(',\\s+', expand=True).stack().value_counts()\n",
    "mmg=df_movie['Genre'].str.split(',\\s+', expand=True).stack().value_counts()\n",
    "totalm = mmg.dropna().sum()\n",
    "totals = ssg.dropna().sum()\n",
    "genre_s_n=round(ssg/(totals/100),2)\n",
    "genre_m_n=round(mmg/(totalm/100),2)\n",
    "#genre_m_n"
   ]
  },
  {
   "cell_type": "code",
   "execution_count": 10,
   "id": "540b6147",
   "metadata": {
    "id": "48ea38e5-c7be-4a10-83e4-45f4a7595c83"
   },
   "outputs": [],
   "source": [
    "# Language\n",
    "ssl=df_series['Languages'].str.split(',\\s+', expand=True).stack().value_counts()\n",
    "mml=df_movie['Languages'].str.split(',\\s+', expand=True).stack().value_counts()\n",
    "# ssl=ssl.rename_axis('Language').reset_index()\n",
    "# ssl.sort_values('Language')#.to_csv('ls1.csv')\n",
    "# mml=mml.rename_axis('Language').reset_index()\n",
    "# mml.sort_values('Language').to_csv('lm1.csv')\n",
    "totalm = mml.dropna().sum()\n",
    "totals = ssl.dropna().sum()\n",
    "lang_s_n=round(ssl/(totals/100),3)\n",
    "lang_m_n=round(mml/(totalm/100),3)\n",
    "#lang_m_n.to_csv('lm1.csv')"
   ]
  },
  {
   "cell_type": "code",
   "execution_count": 11,
   "id": "2a4edf85",
   "metadata": {
    "id": "5O5mtWnKwTDF"
   },
   "outputs": [],
   "source": [
    "\n",
    "data2=pd.read_csv(\"netflix_shows.csv\",squeeze=True) # Movies + shows\n",
    "md2=data2[data2['type']=='Movie']\n",
    "sd2=data2[data2['type']=='TV Show']\n",
    "#sd2.isnull().sum()"
   ]
  },
  {
   "cell_type": "code",
   "execution_count": 18,
   "id": "141345e4",
   "metadata": {
    "colab": {
     "base_uri": "https://localhost:8080/"
    },
    "executionInfo": {
     "elapsed": 29,
     "status": "ok",
     "timestamp": 1626103038480,
     "user": {
      "displayName": "Shashwat Pandey",
      "photoUrl": "https://lh3.googleusercontent.com/a-/AOh14GgSBoKCwDkV3fzoF32ou6T9VzgBGvTtgE7DRsjJgjc=s64",
      "userId": "08031397282229306509"
     },
     "user_tz": -330
    },
    "id": "a_72jKm59pOU",
    "outputId": "2485d3d6-8e1b-47a9-a711-aec2735ab6c0"
   },
   "outputs": [
    {
     "name": "stderr",
     "output_type": "stream",
     "text": [
      "/home/tanisha/.local/lib/python3.6/site-packages/pandas/core/series.py:4582: SettingWithCopyWarning: \n",
      "A value is trying to be set on a copy of a slice from a DataFrame\n",
      "\n",
      "See the caveats in the documentation: https://pandas.pydata.org/pandas-docs/stable/user_guide/indexing.html#returning-a-view-versus-a-copy\n",
      "  method=method,\n"
     ]
    }
   ],
   "source": [
    "# Age Rating\n",
    "sd2['rating'].replace(to_replace='TV-MA', value='18+', inplace=True)\n",
    "sd2['rating'].replace(to_replace='TV-14', value='13+', inplace=True)\n",
    "sd2['rating'].replace(to_replace='TV-PG', value='16+', inplace=True)\n",
    "sd2['rating'].replace(to_replace='TV-Y7', value='7+', inplace=True)\n",
    "sd2['rating'].replace(to_replace='TV-Y', value='Universal', inplace=True)\n",
    "sd2['rating'].replace(to_replace='TV-G', value='Universal', inplace=True)\n",
    "sd2['rating'].replace(to_replace='NR', value='Not Rated', inplace=True)\n",
    "sd2['rating'].replace(to_replace='R', value='18+', inplace=True)\n",
    "sd2['rating'].replace(to_replace='TV-Y7-FV', value='7+', inplace=True)\n",
    "\n",
    "md2['rating'].replace(to_replace='TV-MA', value='18+', inplace=True)\n",
    "md2['rating'].replace(to_replace='TV-14', value='13+', inplace=True)\n",
    "md2['rating'].replace(to_replace='PG-13', value='13+', inplace=True)\n",
    "md2['rating'].replace(to_replace='TV-PG', value='16+', inplace=True)\n",
    "md2['rating'].replace(to_replace='TV-Y7', value='7+', inplace=True)\n",
    "md2['rating'].replace(to_replace='PG', value='7+', inplace=True)\n",
    "md2['rating'].replace(to_replace='G', value='Universal', inplace=True)\n",
    "md2['rating'].replace(to_replace='TV-Y', value='Universal', inplace=True)\n",
    "md2['rating'].replace(to_replace='TV-G', value='Universal', inplace=True)\n",
    "md2['rating'].replace(to_replace='NR', value='Not Rated', inplace=True)\n",
    "md2['rating'].replace(to_replace='UR', value='Not Rated', inplace=True)\n",
    "md2['rating'].replace(to_replace='R', value='18+', inplace=True)\n",
    "md2['rating'].replace(to_replace='NC-17', value='18+', inplace=True)\n",
    "md2['rating'].replace(to_replace='TV-Y7-FV', value='7+', inplace=True)\n",
    "#md2[\"rating\"].drop(\"Not Rated\",axis=0)\n",
    "#s_rate=sd2['rating'].value_counts()\n",
    "#m_rate=md2['rating'].value_counts()\n",
    "#m_rate\n",
    "#total\n",
    "age_rating = [\"18+\",\"7+\",\"16+\",\"13+\",\"Universal\"]\n",
    "total_age=0\n",
    "perc_m_n=dict()\n",
    "for i in age_rating:\n",
    "    total_age+=md2[\"rating\"].value_counts()[i]\n",
    "for i in age_rating:\n",
    "    perc_m_n[i]=round((md2[\"rating\"].value_counts()[i]/total_age)*100,2)\n",
    "total_age=0\n",
    "perc_s_n=dict()\n",
    "for i in age_rating:\n",
    "    total_age+=sd2[\"rating\"].value_counts()[i]\n",
    "for i in age_rating:\n",
    "    perc_s_n[i]=round((sd2[\"rating\"].value_counts()[i]/total_age)*100,2)\n",
    "#perc_s_n\n",
    "#type(total_age)"
   ]
  },
  {
   "cell_type": "code",
   "execution_count": 19,
   "id": "e3f93080",
   "metadata": {
    "colab": {
     "base_uri": "https://localhost:8080/",
     "height": 493
    },
    "executionInfo": {
     "elapsed": 565,
     "status": "ok",
     "timestamp": 1626185200179,
     "user": {
      "displayName": "Shashwat Pandey",
      "photoUrl": "https://lh3.googleusercontent.com/a-/AOh14GgSBoKCwDkV3fzoF32ou6T9VzgBGvTtgE7DRsjJgjc=s64",
      "userId": "08031397282229306509"
     },
     "user_tz": -330
    },
    "id": "1C2xwrbGHMci",
    "outputId": "a60c0bd4-fe29-44aa-994c-326a930be6f9"
   },
   "outputs": [],
   "source": [
    "movie=pd.read_csv(\"mov.csv\",squeeze=True)   # ONLY MOVIES --genre,rating,language\n",
    "# sprime=pd.read_csv(\"primeshows.csv\",squeeze=True,encoding= 'unicode_escape') #language, genre ,rating,\n",
    "sprime=pd.read_csv(\"prime.csv\",squeeze=True,encoding= 'unicode_escape') \n",
    "mprime= movie[movie['Prime Video']==1]\n",
    "total = len(sprime) + len(mprime)\n",
    "s_dict[\"Prime\"] = len(sprime)/total*100\n",
    "m_dict[\"Prime\"] = len(mprime)/total*100\n",
    "#m_dict"
   ]
  },
  {
   "cell_type": "code",
   "execution_count": 20,
   "id": "7499f268",
   "metadata": {
    "id": "DHNKuWkTPvZk"
   },
   "outputs": [],
   "source": [
    "# Genre \n",
    "ssg=sprime['Genre'].str.split(',', expand=True).stack().value_counts()\n",
    "mprime = mprime.rename(columns={\"Genres\": \"Genre\"})\n",
    "mmg=mprime['Genre'].str.split(',', expand=True).stack().value_counts()\n",
    "#ssl=ssl.rename_axis('Genre').reset_index()\n",
    "#ssl.sort_values('Genre')#.to_csv('gs2.csv')\n",
    "#mml=mml.rename_axis('Genre').reset_index()\n",
    "#mml.sort_values('Genre')#.to_csv('gm2.csv')\n",
    "totalm = mmg.dropna().sum()\n",
    "totals = ssg.dropna().sum()\n",
    "genre_s_p=round(ssg/(totals/100),2)\n",
    "genre_m_p=round(mmg/(totalm/100),2)\n",
    "#genre_m_p"
   ]
  },
  {
   "cell_type": "code",
   "execution_count": 25,
   "id": "7a20bf8a",
   "metadata": {
    "id": "ALbopj1lP_C9"
   },
   "outputs": [],
   "source": [
    "# Language\n",
    "ssl=sprime['Language'].str.split(',\\s+', expand=True).stack().value_counts()\n",
    "mml=mprime['Language'].str.split(',', expand=True).stack().value_counts()\n",
    "# ssl=ssl.rename_axis('Language').reset_index()\n",
    "# ssl.sort_values('Language')#.to_csv('ls2.csv')\n",
    "# mml=mml.rename_axis('Language').reset_index()\n",
    "# mml.sort_values('Language')#.to_csv('lm2.csv')\n",
    "totalm = mml.dropna().sum()\n",
    "totals = ssl.dropna().sum()\n",
    "lang_s_p=round(ssl/(totals/100),2)\n",
    "lang_m_p=round(mml/(totalm/100),2)\n",
    "#lang_m_p\n"
   ]
  },
  {
   "cell_type": "code",
   "execution_count": 26,
   "id": "18767ad8",
   "metadata": {
    "id": "suh_2pThPvXk"
   },
   "outputs": [],
   "source": [
    "# Age Rating\n",
    "s_rate=sprime['Age of viewers'].value_counts()\n",
    "mprime['Age'].replace(to_replace='all', value='Universal', inplace=True)\n",
    "sprime['Age of viewers'].replace(to_replace='All', value='Universal', inplace=True)\n",
    "m_rate=mprime['Age'].value_counts()\n",
    "# s_rate\n",
    "# m_rate\n",
    "#s_rate=s_rate.reset_index()\n",
    "#s_rate.to_csv('as2.csv')\n",
    "#m_rate=m_rate.reset_index()\n",
    "#m_rate.to_csv('am2.csv')\n",
    "\n",
    "total_age = sprime[\"Age of viewers\"].dropna().value_counts().sum()\n",
    "perc_m_p=dict()\n",
    "for i in age_rating:\n",
    "    perc_m_p[i]=round((sprime[\"Age of viewers\"].value_counts()[i]/total_age)*100,2)\n",
    "perc_m_p\n",
    "total_age = mprime[\"Age\"].dropna().value_counts().sum()\n",
    "perc_s_p=dict()\n",
    "for i in age_rating:\n",
    "    perc_s_p[i]=round((mprime[\"Age\"].value_counts()[i]/total_age)*100,2)\n",
    "#perc_s_p"
   ]
  },
  {
   "cell_type": "code",
   "execution_count": 27,
   "id": "86af3587",
   "metadata": {
    "id": "gNClHxOUBOMN"
   },
   "outputs": [],
   "source": [
    "# IMDB\n",
    "\n",
    "df4 = sprime[(sprime['IMDb rating']>4.0) & (sprime['IMDb rating']<=5.0)]\n",
    "df5 = sprime[(sprime['IMDb rating']>5.0) & (sprime['IMDb rating']<=6.0)]\n",
    "df6 = sprime[(sprime['IMDb rating']>6.0) & (sprime['IMDb rating']<=7.0)]\n",
    "df7 = sprime[(sprime['IMDb rating']>7.0) & (sprime['IMDb rating']<=8.0)]\n",
    "df8 = sprime[(sprime['IMDb rating']>8.0) & (sprime['IMDb rating']<=9.0)]\n",
    "df9 = sprime[(sprime['IMDb rating']>9.0) & (sprime['IMDb rating']<=10.0)]\n",
    "\n",
    "total = (len(df4) + len(df5) + len(df6) + len(df7) + len(df8) + len(df9))/100\n",
    "datas_p= {\"4-5\" :len(df4)/total , \"5-6\":len(df5)/total, \"6-7\":len(df6)/total, \"7-8\":len(df7)/total, \"8-9\":len(df8)/total,\"9-10\":len(df9)/total} \n",
    "df4 = mprime[(mprime['IMDb']>4.0) & (mprime['IMDb']<=5.0)]\n",
    "df5 = mprime[(mprime['IMDb']>5.0) & (mprime['IMDb']<=6.0)]\n",
    "df6 = mprime[(mprime['IMDb']>6.0) & (mprime['IMDb']<=7.0)]\n",
    "df7 = mprime[(mprime['IMDb']>7.0) & (mprime['IMDb']<=8.0)]\n",
    "df8 = mprime[(mprime['IMDb']>8.0) & (mprime['IMDb']<=9.0)]\n",
    "df9 = mprime[(mprime['IMDb']>9.0) & (mprime['IMDb']<=10.0)]\n",
    "\n",
    "total = (len(df4) + len(df5) + len(df6) + len(df7) + len(df8) + len(df9))/100\n",
    "datam_p= {\"4-5\" :len(df4)/total , \"5-6\":len(df5)/total, \"6-7\":len(df6)/total, \"7-8\":len(df7)/total, \"8-9\":len(df8)/total,\"9-10\":len(df9)/total} \n"
   ]
  },
  {
   "cell_type": "code",
   "execution_count": 28,
   "id": "2a6ad1bf",
   "metadata": {
    "colab": {
     "base_uri": "https://localhost:8080/",
     "height": 774
    },
    "executionInfo": {
     "elapsed": 29,
     "status": "ok",
     "timestamp": 1626103038995,
     "user": {
      "displayName": "Shashwat Pandey",
      "photoUrl": "https://lh3.googleusercontent.com/a-/AOh14GgSBoKCwDkV3fzoF32ou6T9VzgBGvTtgE7DRsjJgjc=s64",
      "userId": "08031397282229306509"
     },
     "user_tz": -330
    },
    "id": "Wa1wSn6JGpBQ",
    "outputId": "b7adc26a-b5b1-4be8-c4d9-0c9415667fc9"
   },
   "outputs": [],
   "source": [
    "\n",
    "\n",
    "mdisney= movie[movie['Disney+']==1]  #genre,language, age\n",
    "sdisney=pd.read_csv(\"disney_shows.csv\",squeeze=True)\n",
    "total = len(mdisney) + len(sdisney)\n",
    "m_dict[\"Disney\"] = len(mdisney)/total*100\n",
    "s_dict[\"Disney\"] = len(sdisney)/total*100"
   ]
  },
  {
   "cell_type": "code",
   "execution_count": 29,
   "id": "ad374255",
   "metadata": {
    "id": "2F7-ghJpRbs-"
   },
   "outputs": [],
   "source": [
    "# Genre \n",
    "ssd=sdisney['genre'].str.split(',\\s+', expand=True).stack().value_counts()\n",
    "mmd=mdisney['Genres'].str.split(',', expand=True).stack().value_counts()\n",
    "# ssl=ssl.rename_axis('Genre').reset_index()\n",
    "# ssl.sort_values('Genre')#.to_csv('gs3.csv')\n",
    "# mml=mml.rename_axis('Genre').reset_index()\n",
    "# mml.sort_values('Genre')#.to_csv('gm3.csv')\n",
    "totalm = mmd.dropna().sum()\n",
    "totals = ssd.dropna().sum()\n",
    "genre_s_d=round(ssd/(totals/100),2)\n",
    "genre_m_d=round(mmd/(totalm/100),2)\n",
    "#genre_m_d"
   ]
  },
  {
   "cell_type": "code",
   "execution_count": 30,
   "id": "67f9bb6e",
   "metadata": {
    "colab": {
     "base_uri": "https://localhost:8080/"
    },
    "executionInfo": {
     "elapsed": 27,
     "status": "ok",
     "timestamp": 1626103038999,
     "user": {
      "displayName": "Shashwat Pandey",
      "photoUrl": "https://lh3.googleusercontent.com/a-/AOh14GgSBoKCwDkV3fzoF32ou6T9VzgBGvTtgE7DRsjJgjc=s64",
      "userId": "08031397282229306509"
     },
     "user_tz": -330
    },
    "id": "py0IjNLeWHUx",
    "outputId": "e3acd02f-3a77-4f41-e256-dfb32e061a3e"
   },
   "outputs": [
    {
     "name": "stderr",
     "output_type": "stream",
     "text": [
      "/home/tanisha/.local/lib/python3.6/site-packages/pandas/core/series.py:4582: SettingWithCopyWarning: \n",
      "A value is trying to be set on a copy of a slice from a DataFrame\n",
      "\n",
      "See the caveats in the documentation: https://pandas.pydata.org/pandas-docs/stable/user_guide/indexing.html#returning-a-view-versus-a-copy\n",
      "  method=method,\n"
     ]
    }
   ],
   "source": [
    "# Age Rating\n",
    "sdisney['rated'].replace(to_replace='TV-MA', value='18+', inplace=True)\n",
    "sdisney['rated'].replace(to_replace='TV-14', value='13+', inplace=True)\n",
    "sdisney['rated'].replace(to_replace='PG-13', value='13+', inplace=True)\n",
    "sdisney['rated'].replace(to_replace='TV-PG', value='16+', inplace=True)\n",
    "sdisney['rated'].replace(to_replace='TV-Y7', value='7+', inplace=True)\n",
    "sdisney['rated'].replace(to_replace='PG', value='7+', inplace=True)\n",
    "sdisney['rated'].replace(to_replace='G', value='Universal', inplace=True)\n",
    "sdisney['rated'].replace(to_replace='TV-Y', value='Universal', inplace=True)\n",
    "sdisney['rated'].replace(to_replace='TV-G', value='Universal', inplace=True)\n",
    "sdisney['rated'].replace(to_replace='NR', value='Not Rated', inplace=True)\n",
    "sdisney['rated'].replace(to_replace='UNRATED', value='Not Rated', inplace=True)\n",
    "sdisney['rated'].replace(to_replace='Unrated', value='Not Rated', inplace=True)\n",
    "sdisney['rated'].replace(to_replace='NOT RATED', value='Not Rated', inplace=True)\n",
    "sdisney['rated'].replace(to_replace='APPROVED', value='Not Rated', inplace=True)\n",
    "sdisney['rated'].replace(to_replace='Approved', value='Not Rated', inplace=True)\n",
    "\n",
    "sdisney['rated'].replace(to_replace='Passed', value='Not Rated', inplace=True)\n",
    "sdisney['rated'].replace(to_replace='PASSED', value='Not Rated', inplace=True)\n",
    "sdisney['rated'].replace(to_replace='R', value='18+', inplace=True)\n",
    "sdisney['rated'].replace(to_replace='NC-17', value='18+', inplace=True)\n",
    "sdisney['rated'].replace(to_replace='TV-Y7-FV', value='7+', inplace=True)\n",
    "mdisney['Age'].replace(to_replace='all', value='Universal', inplace=True)\n",
    "s_rate=sdisney['rated'].value_counts()\n",
    "m_rate=mdisney['Age'].value_counts()\n",
    "total_age = sdisney[\"rated\"].value_counts().sum()\n",
    "perc_s_d=dict()\n",
    "for i in age_rating:\n",
    "    try:\n",
    "        perc_s_d[i]=round((sdisney[\"rated\"].value_counts()[i]/total_age)*100,2)\n",
    "    except:\n",
    "        perc_s_d[i]=0\n",
    "perc_s_d\n",
    "total_age = mdisney[\"Age\"].dropna().value_counts().sum()\n",
    "perc_m_d=dict()\n",
    "for i in age_rating:\n",
    "    perc_m_d[i]=round((mdisney[\"Age\"].value_counts()[i]/total_age)*100,2)\n"
   ]
  },
  {
   "cell_type": "code",
   "execution_count": 31,
   "id": "48f90c48",
   "metadata": {
    "id": "MaDUhJSvWHXE"
   },
   "outputs": [],
   "source": [
    "# Language\n",
    "ssl=sdisney['language'].str.split(',\\s+', expand=True).stack().value_counts()\n",
    "mml=mdisney['Language'].str.split(',', expand=True).stack().value_counts()\n",
    "# ssl=ssl.rename_axis('Language').reset_index()\n",
    "# ssl.sort_values('Language')#.to_csv('ls3.csv')\n",
    "# mml=mml.rename_axis('Language').reset_index()\n",
    "# mml.sort_values('Language')#.to_csv('lm3.csv')\n",
    "totalm = mml.dropna().sum()\n",
    "totals = ssl.dropna().sum()\n",
    "lang_s_d=round(ssl/(totals/100),2)\n",
    "lang_m_d=round(mml/(totalm/100),2)\n",
    "#lang_m_d"
   ]
  },
  {
   "cell_type": "code",
   "execution_count": 32,
   "id": "314eeef4",
   "metadata": {
    "id": "kpdQHCUUWn63"
   },
   "outputs": [],
   "source": [
    "#  IMDb\n",
    "\n",
    "df4 = sdisney[(sdisney['imdb_rating']>4.0) & (sdisney['imdb_rating']<=5.0)]\n",
    "df5 = sdisney[(sdisney['imdb_rating']>5.0) & (sdisney['imdb_rating']<=6.0)]\n",
    "df6 = sdisney[(sdisney['imdb_rating']>6.0) & (sdisney['imdb_rating']<=7.0)]\n",
    "df7 = sdisney[(sdisney['imdb_rating']>7.0) & (sdisney['imdb_rating']<=8.0)]\n",
    "df8 = sdisney[(sdisney['imdb_rating']>8.0) & (sdisney['imdb_rating']<=9.0)]\n",
    "df9 = sdisney[(sdisney['imdb_rating']>9.0) & (sdisney['imdb_rating']<=10.0)]\n",
    "total = (len(df4) + len(df5) + len(df6) + len(df7) + len(df8) + len(df9))/100\n",
    "datas_d= {\"4-5\" :len(df4)/total , \"5-6\":len(df5)/total, \"6-7\":len(df6)/total, \"7-8\":len(df7)/total, \"8-9\":len(df8)/total,\"9-10\":len(df9)/total} \n",
    "\n",
    "df4 = mdisney[(mdisney['IMDb']>4.0) & (mdisney['IMDb']<=5.0)]\n",
    "df5 = mdisney[(mdisney['IMDb']>5.0) & (mdisney['IMDb']<=6.0)]\n",
    "df6 = mdisney[(mdisney['IMDb']>6.0) & (mdisney['IMDb']<=7.0)]\n",
    "df7 = mdisney[(mdisney['IMDb']>7.0) & (mdisney['IMDb']<=8.0)]\n",
    "df8 = mdisney[(mdisney['IMDb']>8.0) & (mdisney['IMDb']<=9.0)]\n",
    "df9 = mdisney[(mdisney['IMDb']>9.0) & (mdisney['IMDb']<=10.0)]\n",
    "\n",
    "total = (len(df4) + len(df5) + len(df6) + len(df7) + len(df8) + len(df9))/100\n",
    "datam_d= {\"4-5\" :len(df4)/total , \"5-6\":len(df5)/total, \"6-7\": len(df6)/total, \"7-8\" :len(df7)/total, \"8-9\":len(df8)/total,\"9-10\":len(df9)/total} \n",
    "\n",
    "# ssi\n",
    "# mmi"
   ]
  },
  {
   "cell_type": "code",
   "execution_count": 33,
   "id": "535eeb10",
   "metadata": {},
   "outputs": [],
   "source": [
    "def RecommendMovieOrSeries(count,x,detail_analysis,m_or_tv,age,imdb,genre,lang,impact_factor):\n",
    "    maxnum = -sys.maxsize\n",
    "    platform = []\n",
    "    final_dict = dict.fromkeys([\"movie\",\"series\"],None)\n",
    "    if m_or_tv == \"movie\" or m_or_tv ==  \"both\":\n",
    "        t_dict = dict() \n",
    "        for i,j in m_dict.items():\n",
    "            if j > maxnum and i not in platform:\n",
    "                maxnum = j\n",
    "                platform.append(i)\n",
    "                platform.clear()\n",
    "            if j == maxnum and i not in platform:\n",
    "                platform.append(i)\n",
    "        t_dict[\"param\"]=m_or_tv\n",
    "        t_dict[\"data\"] = list(m_dict.values())\n",
    "        detail_analysis[\"m_or_tv\"]=[t_dict]\n",
    "        if age == [\"None\"]:\n",
    "            detail_analysis.update({\"age\":None})\n",
    "        else:\n",
    "            count,detail_analysis = recommend_common(count,x,detail_analysis,0,age,perc_m_n,perc_m_p,perc_m_d,perc_s_n,perc_s_p,perc_s_d,impact_factor[1],\"age\",\"age\")\n",
    "        if imdb == [\"None\"]:\n",
    "             detail_analysis.update({\"imdb\":None})\n",
    "        else:\n",
    "            count,detail_analysis = recommend_common(count,x,detail_analysis,0,imdb,datam_n,datam_p,datam_d,datas_n,datas_p,datas_d,impact_factor[2],\"imdb\",\"imdb\")\n",
    "        if genre == [\"None\"]:\n",
    "             detail_analysis.update({\"genre\":None})\n",
    "        else:\n",
    "            count,detail_analysis = recommend_common(count,x,detail_analysis,0,genre,genre_m_n,genre_s_n,genre_m_p,genre_s_p,genre_m_d,genre_s_d,impact_factor[3],\"genre\",\"genre\")\n",
    "        if lang == [\"None\"]:\n",
    "             detail_analysis.update({\"language\":None})\n",
    "        else:\n",
    "            count,detail_analysis = recommend_common(count,x,detail_analysis,0,lang,lang_m_n,lang_s_n,lang_m_p,lang_s_p,lang_m_d,lang_s_d,impact_factor[4],\"language\",\"language\")\n",
    "        final_dict[\"movie\"] = detail_analysis\n",
    "    detail_analysis = dict()\n",
    "    if m_or_tv == \"series\" or m_or_tv == \"both\":\n",
    "        t_dict = dict()\n",
    "        for i,j in s_dict.items():\n",
    "            if j > maxnum and i not in platform:\n",
    "                maxnum = j\n",
    "                platform.append(i)\n",
    "                platform.clear()\n",
    "            if j == maxnum and i not in platform:\n",
    "                platform.append(i)\n",
    "        t_dict[\"param\"] = m_or_tv\n",
    "        t_dict[\"data\"] = list(s_dict.values())\n",
    "        detail_analysis[\"m_or_tv\"] = [t_dict] \n",
    "        if age == [\"None\"]:\n",
    "            detail_analysis.update({\"age\":None})\n",
    "        else:\n",
    "            count,detail_analysis = recommend_common(count,x,detail_analysis,1,age,perc_m_n,perc_m_p,perc_m_d,perc_s_n,perc_s_p,perc_s_d,impact_factor[1],\"age\",\"age\")\n",
    "        if imdb == [\"None\"]:\n",
    "             detail_analysis.update({\"imdb\":None})\n",
    "        else:\n",
    "            count,detail_analysis = recommend_common(count,x,detail_analysis,1,imdb,datam_n,datam_p,datam_d,datas_n,datas_p,datas_d,impact_factor[2],\"imdb\",\"imdb\")\n",
    "        if genre == [\"None\"]:\n",
    "             detail_analysis.update({\"genre\":None})\n",
    "        else:\n",
    "            count,detail_analysis = recommend_common(count,x,detail_analysis,1,genre,genre_m_n,genre_s_n,genre_m_p,genre_s_p,genre_m_d,genre_s_d,impact_factor[3],\"genre\",\"genre\")\n",
    "        if lang == [\"None\"]:\n",
    "             detail_analysis.update({\"language\":None})\n",
    "        else:\n",
    "            count,detail_analysis = recommend_common(count,x,detail_analysis,1,lang,lang_m_n,lang_s_n,lang_m_p,lang_s_p,lang_m_d,lang_s_d,impact_factor[4],\"langauge\",\"language\")\n",
    "        final_dict[\"series\"] = detail_analysis\n",
    "#     elif m_or_tv == \"both\":\n",
    "#         c_dict = dict()\n",
    "#         for i,j in m_dict.items():\n",
    "#             if j > maxnum and i not in platform:\n",
    "#                 maxnum = j\n",
    "#                 platform.append(i)\n",
    "#                 platform.clear()\n",
    "#             if j == maxnum and i not in platform:\n",
    "#                 platform.append(i)\n",
    "#         c_dict[\"movie\"]=m_dict\n",
    "#         for i,j in s_dict.items():\n",
    "#             if j > maxnum and i not in platform:\n",
    "#                 maxnum = j\n",
    "#                 platform.append(i)\n",
    "#                 platform.clear()\n",
    "#             if j == maxnum and i not in platform:\n",
    "#                 platform.append(i)\n",
    "#         c_dict[\"series\"] = s_dict\n",
    "#         detail_analysis.append(c_dict) \n",
    "#         if age == [\"None\"]:\n",
    "#             detail_analysis.append({\"movie_age\":[perc_m_n,perc_m_p,perc_m_d],\"series_age\":[perc_s_n,perc_s_p,perc_s_d]})\n",
    "#         else:\n",
    "#             count,detail_analysis = recommend_common(count,x,detail_analysis,2,age,perc_m_n,perc_m_p,perc_m_d,perc_s_n,perc_s_p,perc_s_d,impact_factor[1],\"movie_age\",\"series_age\")\n",
    "#         if imdb == [\"None\"]:\n",
    "#              detail_analysis.append({\"movie_imdb\":[datam_n,datam_p,datam_d],\"series_imdb\":[datas_n,datas_p,datas_d]})\n",
    "#         else:\n",
    "#             count,detail_analysis = recommend_common(count,x,detail_analysis,2,imdb,datam_n,datam_p,datam_d,datas_n,datas_p,datas_d,impact_factor[2],\"movie_imdb\",\"series_imdb\")\n",
    "#         if genre == [\"None\"]:\n",
    "#              detail_analysis.append({\"movie_genre\":[genre_m_n.to_dict(),genre_m_p.to_dict(),genre_m_d.to_dict()],\"series_genre\":[genre_s_n.to_dict(),genre_s_p.to_dict(),genre_s_d.to_dict()]})\n",
    "#         else:\n",
    "#             count,detail_analysis = recommend_common(count,x,detail_analysis,2,genre,genre_m_n,genre_s_n,genre_m_p,genre_s_p,genre_m_d,genre_s_d,impact_factor[3],\"movie_genre\",\"series_genre\")\n",
    "#         if lang == [\"None\"]:\n",
    "#              detail_analysis.append({\"movie_language\":[lang_m_n.to_dict(),lang_m_p.to_dict(),lang_m_d.to_dict()],\"series_language\":[lang_m_n.to_dict(),lang_m_p.to_dict(),lang_m_d.to_dict()]})\n",
    "#         else:\n",
    "#             count,detail_analysis = recommend_common(count,x,detail_analysis,2,lang,lang_m_n,lang_s_n,lang_m_p,lang_s_p,lang_m_d,lang_s_d,impact_factor[4],\"movie_language\",\"series_language\")\n",
    "    for i in platform:\n",
    "            count[i]+=1*impact_factor[0]\n",
    "    return count,final_dict\n",
    "  "
   ]
  },
  {
   "cell_type": "code",
   "execution_count": 34,
   "id": "2a8fb663",
   "metadata": {},
   "outputs": [],
   "source": [
    "def recommend_common(count,x,detail_analysis,flag,value_list,m_n,s_n,m_p,s_p,m_d,s_d,impact_factor,keyword1,keyword2):\n",
    "    common_list = []\n",
    "    platform =[]\n",
    "    #return m_n,\"ko\"\n",
    "    if flag == 0 or flag == 2:\n",
    "        for i in value_list:\n",
    "            t_dict = dict()\n",
    "            platform.clear()\n",
    "            maxrate = m_n.get(i,0)\n",
    "            platform.append(x[0])\n",
    "            if maxrate == m_p.get(i,0):\n",
    "                platform.append(x[2])\n",
    "            elif maxrate < m_p.get(i,0):\n",
    "                platform.clear()\n",
    "                maxrate = m_p[i]\n",
    "                platform.append(x[1])\n",
    "            if maxrate == m_d.get(i,0):\n",
    "                platform.append(x[2])\n",
    "            elif maxrate < m_d.get(i,0):\n",
    "                platform.clear()\n",
    "                maxrate = m_d[i]\n",
    "                platform.append(x[2])\n",
    "            t_dict[\"param\"] = i\n",
    "            t_dict[\"data\"]=[m_n.get(i,0),m_p.get(i,0),m_d.get(i,0)]\n",
    "            common_list.append(t_dict)\n",
    "        for i in platform:\n",
    "            count[i]+=1*impact_factor\n",
    "    platform =[]\n",
    "    if flag == 1 or flag == 2:\n",
    "        for i in value_list:\n",
    "            t_dict = dict()\n",
    "            platform.clear()\n",
    "            maxrate = s_n.get(i,0)\n",
    "            platform.append(x[0])\n",
    "            if maxrate == s_p.get(i,0):\n",
    "                platform.append(x[1])\n",
    "            elif maxrate < s_p.get(i,0):\n",
    "                platform.clear()\n",
    "                maxrate = s_p[i]\n",
    "                platform.append(x[1])\n",
    "            if maxrate == s_d.get(i,0):\n",
    "                 platform.append(x[2])\n",
    "            elif maxrate < s_d.get(i,0):\n",
    "                platform.clear()\n",
    "                maxrate = s_d[i]\n",
    "                platform.append(x[2])\n",
    "            t_dict[\"param\"]=i\n",
    "            t_dict[\"data\"]=[s_n.get(i,0),s_p.get(i,0),s_d.get(i,0)]\n",
    "            common_list.append(t_dict)\n",
    "    detail_analysis[keyword1]=common_list\n",
    "    for i in platform:\n",
    "            count[i]+=1*impact_factor\n",
    "    return count, detail_analysis"
   ]
  },
  {
   "cell_type": "code",
   "execution_count": 35,
   "id": "9f294e76",
   "metadata": {},
   "outputs": [],
   "source": [
    "import sys\n",
    "from collections import Counter\n",
    "def final(json_string):\n",
    "    #every value is in string format\n",
    "    impact_factor = json_string[\"impact_factor\"]\n",
    "    x = (\"Netflix\",\"Prime\",\"Disney\")\n",
    "    detail_analysis= dict()\n",
    "    winner = []\n",
    "    count = dict().fromkeys(x,0)\n",
    "    \n",
    "    m_or_tv = json_string[\"m_or_tv\"].lower()\n",
    "    age = json_string[\"age\"]\n",
    "    imdb = json_string[\"imdb\"]\n",
    "    genre = json_string[\"genre\"]\n",
    "    lang = json_string[\"language\"]\n",
    "    #price = json_string[price]\n",
    "    count,detail_analysis = RecommendMovieOrSeries(count,x,detail_analysis,m_or_tv,age,imdb,genre,lang,impact_factor)\n",
    "#     c = RecommendMovieOrSeries(count,x,detail_analysis,m_or_tv,age,imdb,genre,lang,impact_factor)\n",
    "#     return c\n",
    "    curr = count[\"Netflix\"]\n",
    "    for i,j in count.items():\n",
    "        if j>curr and i not in winner:\n",
    "            winner.clear()\n",
    "            winner.append(i)\n",
    "            curr = j\n",
    "        if j==curr and i not in winner:\n",
    "            winner.append(i)\n",
    "    return detail_analysis, winner\n",
    "    \n",
    "#handle platform equal priority cases\n",
    "      \n",
    "\n",
    "        \n",
    "    \n",
    "    \n",
    "    \n",
    "        "
   ]
  },
  {
   "cell_type": "code",
   "execution_count": 40,
   "id": "6b82616a",
   "metadata": {},
   "outputs": [
    {
     "name": "stdout",
     "output_type": "stream",
     "text": [
      "{'movie': {'m_or_tv': [{'param': 'movie', 'data': [75.5799676898223, 96.08773430815899, 36.246786632390744]}], 'age': [{'param': '16+', 'data': [9.55, 0.2, 4.54]}], 'imdb': [{'param': '7-8', 'data': [23.63141445710253, 26.306306306306308, 44.03669724770642]}], 'genre': None, 'language': [{'param': 'Telugu', 'data': [0.226, 0.63, 0]}, {'param': 'English', 'data': [40.55, 68.97, 78.01]}]}, 'series': None}\n"
     ]
    }
   ],
   "source": [
    "# o,p=final({\"m_or_tv\":\"movie\",\"age\":[\"16+\"],\"imdb\":[\"7-8\"],\"genre\":[\"None\"],\"language\":[\"Telugu\",\"English\"],\"impact_factor\":[1,1,1,1,1]})\n",
    "# print(o)"
   ]
  },
  {
   "cell_type": "code",
   "execution_count": 41,
   "id": "ed37af97",
   "metadata": {},
   "outputs": [
    {
     "name": "stdout",
     "output_type": "stream",
     "text": [
      "{'movie': None, 'series': {'m_or_tv': [{'param': 'series', 'data': [24.420032310177707, 3.9122656918410206, 63.75321336760925]}], 'age': [{'param': 'Universal', 'data': [28.63, 10.24, 50.27]}], 'imdb': [{'param': '9-10', 'data': [0.06737247353224254, 0.5240746806419915, 0.2298850574712644]}], 'genre': [{'param': 'Adventure', 'data': [5.06, 0.31, 10.92]}], 'langauge': [{'param': 'Telugu', 'data': [0.076, 0.2, 0.09]}, {'param': 'English', 'data': [44.243, 83.9, 79.09]}, {'param': 'Hindi', 'data': [1.109, 7.75, 0.56]}]}}\n"
     ]
    }
   ],
   "source": [
    "# o,p=final({\"m_or_tv\":\"series\",\"age\":[\"Universal\"],\"imdb\":[\"9-10\"],\"genre\":[\"Adventure\"],\"language\":[\"Telugu\",\"English\",\"Hindi\"],\"impact_factor\":[1,1,1,1,1]})\n",
    "# print(o)"
   ]
  },
  {
   "cell_type": "code",
   "execution_count": 42,
   "id": "4fdc460f",
   "metadata": {},
   "outputs": [
    {
     "name": "stdout",
     "output_type": "stream",
     "text": [
      "movie {'m_or_tv': [{'param': 'both', 'data': [75.5799676898223, 96.08773430815899, 36.246786632390744]}], 'age': [{'param': '16+', 'data': [9.55, 0.2, 4.54]}], 'imdb': [{'param': '7-8', 'data': [23.63141445710253, 26.306306306306308, 44.03669724770642]}], 'genre': [{'param': 'Adventure', 'data': [5.07, 4.14, 12.43]}], 'language': [{'param': 'Telugu', 'data': [0.226, 0.63, 0]}, {'param': 'English', 'data': [40.55, 68.97, 78.01]}]}\n",
      "series {'m_or_tv': [{'param': 'both', 'data': [24.420032310177707, 3.9122656918410206, 63.75321336760925]}], 'age': [{'param': '16+', 'data': [30.62, 12.53, 5.53]}], 'imdb': [{'param': '7-8', 'data': [18.248315688161693, 40.25548640681297, 31.839080459770116]}], 'genre': [{'param': 'Adventure', 'data': [5.06, 0.31, 10.92]}], 'langauge': [{'param': 'Telugu', 'data': [0.076, 0.2, 0.09]}, {'param': 'English', 'data': [44.243, 83.9, 79.09]}]}\n"
     ]
    }
   ],
   "source": [
    "# o,p=final({\"m_or_tv\":\"both\",\"age\":[\"16+\"],\"imdb\":[\"7-8\"],\"genre\":[\"Adventure\"],\"language\":[\"Telugu\",\"English\"],\"impact_factor\":[1,1,1,1,1]})\n",
    "# for i, j in o.items():\n",
    "#     print (i,j)"
   ]
  },
  {
   "cell_type": "code",
   "execution_count": null,
   "id": "c8c8871f",
   "metadata": {},
   "outputs": [],
   "source": []
  }
 ],
 "metadata": {
  "colab": {
   "collapsed_sections": [],
   "name": "Copy of Preprocessing for Dashboard.ipynb",
   "provenance": [
    {
     "file_id": "1E_Q7z3woiS6SN4fIHm5qGLvqSky2C57R",
     "timestamp": 1626523149758
    },
    {
     "file_id": "1l-m99eZNy-RPERQwxVnVrDgGVhtR7bT7",
     "timestamp": 1625493223639
    }
   ]
  },
  "kernelspec": {
   "display_name": "Python 3",
   "language": "python",
   "name": "python3"
  },
  "language_info": {
   "codemirror_mode": {
    "name": "ipython",
    "version": 3
   },
   "file_extension": ".py",
   "mimetype": "text/x-python",
   "name": "python",
   "nbconvert_exporter": "python",
   "pygments_lexer": "ipython3",
   "version": "3.6.9"
  }
 },
 "nbformat": 4,
 "nbformat_minor": 5
}
